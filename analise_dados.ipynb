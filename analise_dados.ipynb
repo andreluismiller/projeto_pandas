{
  "nbformat": 4,
  "nbformat_minor": 0,
  "metadata": {
    "colab": {
      "name": "analise_dados.ipynb",
      "provenance": [],
      "mount_file_id": "1-KT03LtKcOW5OrHQJEyPcdKqlgqa_n8Q",
      "authorship_tag": "ABX9TyPzB8vNnVbsHnYfyRQIn0wR",
      "include_colab_link": true
    },
    "kernelspec": {
      "name": "python3",
      "display_name": "Python 3"
    },
    "language_info": {
      "name": "python"
    }
  },
  "cells": [
    {
      "cell_type": "markdown",
      "metadata": {
        "id": "view-in-github",
        "colab_type": "text"
      },
      "source": [
        "<a href=\"https://colab.research.google.com/github/andreluismiller/projeto_pandas/blob/main/analise_dados.ipynb\" target=\"_parent\"><img src=\"https://colab.research.google.com/assets/colab-badge.svg\" alt=\"Open In Colab\"/></a>"
      ]
    },
    {
      "cell_type": "markdown",
      "metadata": {
        "id": "iZ5gHN4IlMba"
      },
      "source": [
        "**Upando, limpando e normalizando arquivo**\n",
        "\n"
      ]
    },
    {
      "cell_type": "code",
      "metadata": {
        "id": "6EWsWJZFgGV5"
      },
      "source": [
        "#Importando bibliotecas\n",
        "\n",
        "import pandas as pd\n",
        "import numpy as np\n",
        "import plotly.express as px "
      ],
      "execution_count": 18,
      "outputs": []
    },
    {
      "cell_type": "code",
      "metadata": {
        "id": "5nYGyO6Vgqea"
      },
      "source": [
        "#importando arquivo\n",
        "\n",
        "df = pd.read_csv(\"/content/drive/MyDrive/Intensivo automação/Aula 2/telecom_users.csv\")"
      ],
      "execution_count": 2,
      "outputs": []
    },
    {
      "cell_type": "code",
      "metadata": {
        "id": "sR6KEYKkhGAQ"
      },
      "source": [
        "#visualizando arquivo\n",
        "\n",
        "display(df)"
      ],
      "execution_count": null,
      "outputs": []
    },
    {
      "cell_type": "code",
      "metadata": {
        "id": "L3o9HPwLhVAC"
      },
      "source": [
        "#visualizando tipo dos dados\n",
        "\n",
        "df.dtypes"
      ],
      "execution_count": null,
      "outputs": []
    },
    {
      "cell_type": "code",
      "metadata": {
        "id": "0I3ukNHFiTRR"
      },
      "source": [
        "#visualizando campos nulos\n",
        "\n",
        "print(df.info())"
      ],
      "execution_count": null,
      "outputs": []
    },
    {
      "cell_type": "code",
      "metadata": {
        "id": "aN3hyxyAhlsS"
      },
      "source": [
        "#limpando arquivo (removendo coluna desnecessária)\n",
        "\n",
        "df = df.drop([\"Unnamed: 0\"], axis=1)"
      ],
      "execution_count": 5,
      "outputs": []
    },
    {
      "cell_type": "code",
      "metadata": {
        "id": "KpnDpMlfhz4x"
      },
      "source": [
        "#normalizando arquivo (alterar tipo de dado incorreto)\n",
        "\n",
        "df[\"TotalGasto\"] = pd.to_numeric(df[\"TotalGasto\"], errors=\"coerce\")"
      ],
      "execution_count": 13,
      "outputs": []
    },
    {
      "cell_type": "code",
      "metadata": {
        "id": "S3yRfk3ijdLs"
      },
      "source": [
        "#normalizando arquivo (removendo coluna vazia)\n",
        "\n",
        "df = df.dropna(how=\"all\", axis=1)"
      ],
      "execution_count": 14,
      "outputs": []
    },
    {
      "cell_type": "code",
      "metadata": {
        "id": "S-SoUarXj6MF"
      },
      "source": [
        "#normalizando arquivo (removendo possíveis dados faltantes)\n",
        "\n",
        "df.dropna()"
      ],
      "execution_count": null,
      "outputs": []
    },
    {
      "cell_type": "code",
      "metadata": {
        "id": "Yit0jjJdjyR6"
      },
      "source": [
        "#verificando alterações\n",
        "\n",
        "df.dtypes"
      ],
      "execution_count": null,
      "outputs": []
    },
    {
      "cell_type": "markdown",
      "metadata": {
        "id": "GRnLMMwClcvy"
      },
      "source": [
        "**Análise - cancelamento de contrato**"
      ]
    },
    {
      "cell_type": "code",
      "metadata": {
        "id": "oLZ9jESgk3S6"
      },
      "source": [
        "#verificando clientes que cancelaram ou não o contrato (em porcentagem)\n",
        "\n",
        "display(df[\"Churn\"].value_counts(normalize=True).map(\"{:.1%}\".format))"
      ],
      "execution_count": null,
      "outputs": []
    },
    {
      "cell_type": "code",
      "metadata": {
        "id": "yGlQlIfAnK4Y"
      },
      "source": [
        "#exibindo dados\n",
        "\n",
        "for coluna in df:\n",
        "  if coluna != \"IDCliente\":\n",
        "    fig = px.histogram(df, x=coluna, color=\"Churn\")\n",
        "    fig.show()\n",
        "    display(df.pivot_table(index=\"Churn\", colunms=coluna, aggfunc=\"count\")[\"IDCliente\"])"
      ],
      "execution_count": null,
      "outputs": []
    }
  ]
}